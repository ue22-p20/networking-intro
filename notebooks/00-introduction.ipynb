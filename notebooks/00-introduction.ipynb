{
 "cells": [
  {
   "cell_type": "markdown",
   "metadata": {},
   "source": [
    "# Introduction \n"
   ]
  },
  {
   "cell_type": "markdown",
   "metadata": {},
   "source": [
    "## Le parallélisme une forme de coopération mais pas la seule\n",
    "\n",
    "Dans le cours précédent nous avons vu comment il est possible d'exploiter les architectures de calcul modernes, processeurs multi-coeurs, cluster de calcul afin de réaliser des programmes parallèles. Nous avons donc vu une forme de coopération entre programmes. Cependant ce modèle de coopération est relativement particulier et assez spécifique en terme d'application.  \n",
    "\n",
    "Nous allons voir aujourd'hui un autre mode de coopérations entre programme, celui que vous utilisez en réalité tous les jours sans peut-être le savoir!"
   ]
  },
  {
   "cell_type": "markdown",
   "metadata": {},
   "source": [
    "## Le modèle coopérant le plus courant \n"
   ]
  },
  {
   "cell_type": "markdown",
   "metadata": {},
   "source": [
    "En effet le modèle coopérant le plus courant dans le monde de l'informatique met en jeu le concept de réseau. En effet dans le monde actuel tout est interconnecté via des réseaux. Et grâce à ce réseau il est possible de connecter tout un tas d'applications entre elles. "
   ]
  },
  {
   "cell_type": "markdown",
   "metadata": {},
   "source": [
    "Cela introduit alors tout un tas de questions : comment communiquer entre deux applications sur un réseau ? Comment envoyer un message d'une application vers une autre via le réseau ? Sous quel format envoyer ce message ? Comment on fait une application Python capable d'écouter sur le réseau ? "
   ]
  },
  {
   "cell_type": "markdown",
   "metadata": {},
   "source": [
    "Nous allons essayer de répondre à toutes ces questions dans le cadre de ce cours. "
   ]
  },
  {
   "cell_type": "markdown",
   "metadata": {
    "slideshow": {
     "slide_type": ""
    }
   },
   "source": [
    "Il faut bien voir qu'il existe plusieurs approches possibles pour faire des programmes coopérants via un réseau. Il ne suffit pas de dire que l'on fait du réseau pour que tout soit clair, loin de là !! Car vous vous en doutez peut-être mais il y a un tas de manière différentes de faire communiquer deux programmes via un réseau. \n",
    "\n",
    "Le premier cas de figure, le plus répandu c'est celui où une machine A sur le réseau ne fait rien, elle ne fait qu'attendre qu'une machine B lui envoie un message pour faire quelque chose. C'est ce que l'on appelle une architecture client-serveur. La machine passive est le serveur qui ne fait rien de sa propre initiative, tandis que le machine B est le client. Dans ce modèle, c'est le client qui envoie un message au serveur en attente, ce dernier traite alors le message et envoie une réponse au client. Il s'agit du modèle le plus courant, une grande partie d'Internet repose dessus.\n",
    "\n",
    "À partir de cette architecture client-serveur on peut dériver les *architectures trois-tiers* qui vont nous permettre de spécialiser les serveurs dans une tâche précise. L'idée, que l'on peut deviner vu le nom, c'est d'ajouter une troisième couche dans l'architecture. Lorsque le client A envoie un message au serveur B ce dernier traite le message et suivant la demande du client il le transfère à un serveur C qui sera chargé de traiter l'action. \n",
    "\n",
    "Et enfin le dernier type d'architecture envisageable, et dont vous avez peut-être déjà entendu parler, c'est l'architecture pair à pair (ou peer-to-peer) très célèbre à une époque où Netflix n'existait pas, oui oui je vous assure Netflix n'a pas toujours existé... Le principe de l'architecture peer-to-peer est que les machines A et B jouent toutes les deux à la fois le rôle du serveur et le rôle du client. L'intérêt principal de cette architecture est qu'elle permet de s'affranchir d'un serveur centralisé. En effet tous les ordinateurs du réseau étant des serveurs il n'y a pas besoin de tout centraliser sur une seule et unique machine. Au passage on peut citer un projet qui dure depuis 20 ans de calcul parallèle distribué utilisant un réseau peer-to-peer, il s'agit du projet www.foldingathome.org. Pour l'anecdote dans le cadre de la pandémie Covid-19 le projet Folding@home a alloué une grande partie de ses ressources à la recherche d'un anticorps efficace. Suite à une mobilisation dans le cadre de la lutte contre le Covid-19 la puissance agrégée de toutes les machines du réseau folding@home a fait de ce projet la première puissance de calcul mondiale loin devant les plus gros cluster au monde. \n",
    "\n",
    "Dans la suite de ce cours nous ne nous focaliserons que sur l'architecture client-serveur classique."
   ]
  },
  {
   "cell_type": "markdown",
   "metadata": {},
   "source": [
    "## Et le Web dans tout ça"
   ]
  },
  {
   "cell_type": "markdown",
   "metadata": {},
   "source": [
    "La dessus vous vous dites certainement, ok mais le réseau c'est le web non ? Et bien non le réseau ce n'est pas le web, ni internet. Des réseaux il y en a partout. Alors oui c'est vrai internet c'est le réseau que l'on voit le plus mais ce n'est pas le seul. De plus internet, nous en reparlerons plus tard, est plus un réseau de réseaux. \n",
    "\n",
    "Donc ce cours ne nous permettra pas de programmer du réseau sur internet ? J'ai pas dis ça donc restez encore un peu. Je dis juste que le Web n'a rien de mystique il est bâti sur des concepts qui existaient avant. Et donc rassurez-vous tout ce que nous allons voir dans la suite de ce cours s'appliquera aussi bien à du Web qu'à un réseau local coupé d'internet. \n",
    "\n",
    "De plus j'ajouterai que même si la finalité du cours n'est pas que vous deveniez des experts du Web mais plutôt que vous ayez une connaissance générale sur les réseaux, cela va vous permettre de mieux comprendre ce qui se passe dans votre navigateur et aussi de mieux exploiter la richesse d'internet. \n"
   ]
  },
  {
   "cell_type": "markdown",
   "metadata": {},
   "source": [
    "## Un mot sur le cloud"
   ]
  },
  {
   "cell_type": "markdown",
   "metadata": {},
   "source": [
    "Pour finir étant de nature vindicative je vais ajouter quelques mots sur le cloud !! Le cloud, ce mot à la mode depuis maintenant quelques années. Pour être clair tout de suite ce que l'on appelle le cloud n'a rien de révolutionnaire. Ce n'est qu'un effet de mode qui consiste à vendre le fait d'utiliser un ordinateur distant sur un réseau ouvert (par exemple internet) comme étant quelque chose de révolutionnaire !! Alors qu'en fait on faisait cela bien avant que le mot cloud n'ait été utilisé. "
   ]
  }
 ],
 "metadata": {
  "kernelspec": {
   "display_name": "Python 3",
   "language": "python",
   "name": "python3"
  },
  "language_info": {
   "codemirror_mode": {
    "name": "ipython",
    "version": 3
   },
   "file_extension": ".py",
   "mimetype": "text/x-python",
   "name": "python",
   "nbconvert_exporter": "python",
   "pygments_lexer": "ipython3",
   "version": "3.7.4"
  }
 },
 "nbformat": 4,
 "nbformat_minor": 2
}
