{
 "cells": [
  {
   "cell_type": "markdown",
   "metadata": {},
   "source": [
    "# Côté client\n",
    "\n",
    "## Le client en quelques mots\n",
    "\n",
    "Dans un architecture client-serveur il y a un client et un serveur, facile c'est dans le nom ! Dans ce notebook nous allons donc voir en quoi consiste concrètement un client. Pour cela nous allons voir comment nous pouvons facilement développer notre propre client réseau à l'aide bien évidemment de Python. \n",
    "\n",
    "Déjà revenons sur la définition d'un client. Un client ne fait fait que deux choses : (i) établir une connexion avec  un serveur ; (ii) recevoir, traiter et envoyer des données. En réalité sans peut-être le savoir vous utilisez un client tous les jours. Une idée ? Un indice : à l'instant même où vous lisez cette ligne vous utilisez un client !! Et oui votre navigateur internet (Chrome, Firefox, Edge, peu importe) n'est rien de plus qu'un client. Bon ok un client un peu évolué certes puisque disposant d'une interface graphique. Mais ce n'est pourtant rien de plus qu'un client qui se connecte à un serveur (caractérisé par une adresse url) reçoit de se serveur une page web et potentiellement renvoie des données. \n",
    "\n",
    "Dans la suite du notebook nous allons donc voir comment mettre en place notre propre client. "
   ]
  },
  {
   "cell_type": "markdown",
   "metadata": {},
   "source": [
    "## Un premier échange TCP"
   ]
  },
  {
   "cell_type": "markdown",
   "metadata": {},
   "source": [
    "Pour commencer nous allons faire un premier client TCP qui va interroger un serveur. Les informations du serveur sont les suivantes : "
   ]
  },
  {
   "cell_type": "code",
   "execution_count": null,
   "metadata": {},
   "outputs": [],
   "source": [
    "#server_ip   = \"54.38.35.132\"\n",
    "#server_port = 3000\n",
    "\n",
    "server_ip = \"127.0.0.1\"\n",
    "server_port = 3000\n"
   ]
  },
  {
   "cell_type": "markdown",
   "metadata": {},
   "source": [
    "La connection à ce serveur va se faire à l'aide d'un socket comme nous avons pu le voir dans le précédent notebook. Et donc Python, dans son génie, dispose d'un module s'appelant socket !"
   ]
  },
  {
   "cell_type": "markdown",
   "metadata": {},
   "source": [
    "Mais avant cela il faut lancer le serveur ;) \n"
   ]
  },
  {
   "cell_type": "code",
   "execution_count": null,
   "metadata": {},
   "outputs": [],
   "source": [
    "import subprocess\n",
    "proc = subprocess.Popen(\"python ../sandbox/server_socket_tcp.py\", shell=True)"
   ]
  },
  {
   "cell_type": "code",
   "execution_count": null,
   "metadata": {},
   "outputs": [],
   "source": [
    "import socket "
   ]
  },
  {
   "cell_type": "markdown",
   "metadata": {},
   "source": [
    "La connexion se fait alors par la création d'un object `socket.socket` de la manière suivante : "
   ]
  },
  {
   "cell_type": "code",
   "execution_count": null,
   "metadata": {},
   "outputs": [],
   "source": [
    "params = (server_ip, server_port)\n",
    "s = socket.socket(socket.AF_INET, socket.SOCK_STREAM)\n",
    "s.connect(params)"
   ]
  },
  {
   "cell_type": "markdown",
   "metadata": {},
   "source": [
    "À partir de là, la connection avec le server est établie et nous pouvons donc communiquer avec ce dernier. La communication est simple elle se fait à l'aide de la méthode `send` du socket pour envoyer des données au serveur et avec la méthode `recv` pour recevoir des données du serveur. \n",
    "\n",
    "**Attention** au type de ce que l'on envoie. Il faut que les chaînes de caractère que vous envoyez au serveur soient encodées. Si ce n'est pas le cas vous allez avoir l'erreur suivante : "
   ]
  },
  {
   "cell_type": "code",
   "execution_count": null,
   "metadata": {},
   "outputs": [],
   "source": [
    "try:\n",
    "    s.send(\"Hello server\")\n",
    "except Exception as e:\n",
    "    print(e.args[0])"
   ]
  },
  {
   "cell_type": "code",
   "execution_count": null,
   "metadata": {},
   "outputs": [],
   "source": [
    "s.send(b\"Hello server\") ## ou s.send(\"Hello server\".encode())"
   ]
  },
  {
   "cell_type": "markdown",
   "metadata": {},
   "source": [
    "La méthode `send` nous renvoie en sortie la taille du message que l'on a envoyé au serveur. À partir de là, il nous faut maintenant recevoir la réponse du serveur. Pour cela nous allons utiliser la méthode recv. Cependant il y a une particularité à la méthode `recv` qui est qu'elle nécessite en argument un entier: la taille du buffer. En effet, le client ne sait pas à l'avance la taille du message qu'il va recevoir du serveur, il est donc nécessaire de pré-allouer une taille de message fixée arbitrairement et de recevoir le message en plusieur morceaux si ce dernier est plus grand que la taille du buffer. Cette réception par morceaux peut se faire de la manière suivante : "
   ]
  },
  {
   "cell_type": "code",
   "execution_count": null,
   "metadata": {},
   "outputs": [],
   "source": [
    "BUFF_SIZE = 1024\n",
    "a = s.recv(BUFF_SIZE)\n",
    "msg = a\n",
    "while a != b\"\":\n",
    "    a = s.recv(BUFF_SIZE)\n",
    "    msg += a\n",
    "    \n",
    "print(f\"Le client a recu du server :\\n {msg.decode()}\")"
   ]
  },
  {
   "cell_type": "markdown",
   "metadata": {},
   "source": [
    "Et enfin une fois notre échange fini nous pouvons fermer notre client. "
   ]
  },
  {
   "cell_type": "code",
   "execution_count": null,
   "metadata": {},
   "outputs": [],
   "source": [
    "s.close()"
   ]
  },
  {
   "cell_type": "markdown",
   "metadata": {},
   "source": [
    "Suite à ce premier échange TCP entre notre client et un serveur nous pouvons faire plusieurs remarques. Tout d'abord la première chose que vous pouvez vous dire c'est que l'intéret semble assez limité en fait. En effet l'interaction entre le client et le serveur est assez pauvre puisqu'on ne peut envoyer qu'une chaîne de caractères encodée et ne recevoir qu'une donnée similaire. On est loin du Big Data, Web des données et tous ces termes à la mode. Mais pas de panique, inutile de fermer le notebook en vous disant une fois de plus que je suis un rigolo. Je vais tout de suite vous expliquer comment faire des choses un peu plus fun. "
   ]
  },
  {
   "cell_type": "code",
   "execution_count": null,
   "metadata": {},
   "outputs": [],
   "source": [
    "proc.terminate()"
   ]
  },
  {
   "cell_type": "markdown",
   "metadata": {},
   "source": [
    "## Sérialisation ou comment échanger plus"
   ]
  },
  {
   "cell_type": "markdown",
   "metadata": {},
   "source": [
    "Nous allons à présent faire une petite parenthèse pour parler du concept de sérialisation. La sérialisation en informatique consiste en une traduction d'un objet en une suite d'objets élémentaires. Cela étant dit ça ne nous avance pas des masses. En effet à partir de cette définition il y a une infinité de sérialisations possibles. L'intérêt de la sérialisation repose sur le fait qu'il existe des formats prédéfinis de sérialisation rendant cette opération interropérable entre différents programmes et différents environnements. "
   ]
  },
  {
   "cell_type": "markdown",
   "metadata": {},
   "source": [
    "### 100 % Python la sérialisation via pickle"
   ]
  },
  {
   "cell_type": "markdown",
   "metadata": {},
   "source": [
    "La première solution de sérialisation envisageable est d'utiliser le module `pickle` de Python. Ce module est dédié à la sérialisation et désérisalisation d'objets Python. L'avantage c'est qu'il va nous permettre de sérialiser tout ce que l'on veut (y compris des classes, des fonctions,... ). En revanche cette généricité va se faire au détriment de la portabilité, en effet seul Python est capable de désérialiser la donnée. Cela impose donc d'avoir une **infrastructure 100% Python** que ce soit côté serveur et côté client. "
   ]
  },
  {
   "cell_type": "code",
   "execution_count": null,
   "metadata": {},
   "outputs": [],
   "source": [
    "import pickle"
   ]
  },
  {
   "cell_type": "markdown",
   "metadata": {},
   "source": [
    "Considérons pour commencer une liste de données hétérogène. Avec la fonction `dumps` du module Pickle il est tout à fait possible de convertir cette liste en un objet de type `bytes` pouvant alors être envoyé via notre client/serveur TCP. "
   ]
  },
  {
   "cell_type": "code",
   "execution_count": null,
   "metadata": {},
   "outputs": [],
   "source": [
    "data = [ (0,1,2), True, [\"coucou\", \"byebye\"]]\n",
    "serialized_data = pickle.dumps(data)\n"
   ]
  },
  {
   "cell_type": "code",
   "execution_count": null,
   "metadata": {},
   "outputs": [],
   "source": [
    "serialized_data"
   ]
  },
  {
   "cell_type": "raw",
   "metadata": {},
   "source": [
    "La désérialisation se fait alors via la fonction `loads` qui prend en entrée le `bytes` object contenant la donnée sérialisée et vous retourne en sortie votre donnée d'origine. "
   ]
  },
  {
   "cell_type": "code",
   "execution_count": null,
   "metadata": {},
   "outputs": [],
   "source": [
    "pickle.loads(serialized_data)"
   ]
  },
  {
   "cell_type": "markdown",
   "metadata": {},
   "source": [
    "L'intérêt d'utiliser Pickle est que l'on peut envisager des applications où les échanges entre client et serveur portent directement sur des morceaux de code à exécuter. Par exemple on pourrait très bien imaginer une application où le client sur un ordinateur ayant peu de ressources envoie au serveur un ensemble de code Python et de données. Le code est alors exécuté sur le serveur (disposant de ressources bien plus importantes) et ce dernier renvoie le résultat au client pour un affichage par exemple. "
   ]
  },
  {
   "cell_type": "code",
   "execution_count": null,
   "metadata": {},
   "outputs": [],
   "source": [
    "### Côté client \n",
    "class Calculator:\n",
    "    def __init__(self, data):\n",
    "        self._data = data\n",
    "        self._result = 0.\n",
    "        \n",
    "    def run(self):\n",
    "        self._result = self._data.mean()\n",
    "        \n",
    "    def result(self):\n",
    "        return self._result\n",
    "    \n",
    "import numpy as np\n",
    "c = Calculator(np.random.rand(100))\n",
    "print(f\"Results = {c.result()}\")\n",
    "serialized_c = pickle.dumps(c)"
   ]
  },
  {
   "cell_type": "code",
   "execution_count": null,
   "metadata": {},
   "outputs": [],
   "source": [
    "### Côté serveur \n",
    "import numpy as np\n",
    "import pickle\n",
    "receive_c = pickle.loads( serialized_c )\n",
    "receive_c.run()\n",
    "### On re-sérialise le tout et on renvoie au client \n",
    "send_c = pickle.dumps( receive_c )"
   ]
  },
  {
   "cell_type": "code",
   "execution_count": null,
   "metadata": {},
   "outputs": [],
   "source": [
    "### côté client à nouveau \n",
    "c_client_after_server = pickle.loads(send_c)\n",
    "c_client_after_server.result()"
   ]
  },
  {
   "cell_type": "markdown",
   "metadata": {},
   "source": [
    "Cela permet donc de faire des choses beaucoup plus évoluées que ce que l'on a vu au début de ce notebook !! Mais pourquoi ne pas le faire en vrai, c'est-à-dire avec la communication vers le serveur, vous demandez vous. Parce qu'en fait cette application est le parfait exemple de ce qu'il ne faut surtout **pas faire** ! Pourquoi ? Mais pour la simple et bonne raison que c'est une énorme faille de sécurité pour le serveur. Heu... vous ne voyez vraiment pas ? Et bien si je résume, le client envoie au serveur une instance de classe qui a une méthode `run`. Côté serveur on pourrait donc coder quelque chose du genre : "
   ]
  },
  {
   "cell_type": "code",
   "execution_count": null,
   "metadata": {},
   "outputs": [],
   "source": [
    "import pickle\n",
    "receive_c = pickle.loads( serialized_c )\n",
    "\n",
    "if hasattr(receive_c, \"run\"):\n",
    "    print(\"Le truc que j'ai recu a une méthode run donc je l'exécute\")\n",
    "    receive_c.run()\n",
    "else:\n",
    "    print(\"Pas de méthode run, je fais autre chose comme envoyer un message au client pour dire que j'ai pas recu ce qu'il faut \")\n",
    "    \n"
   ]
  },
  {
   "cell_type": "markdown",
   "metadata": {},
   "source": [
    "Le problème avec ça c'est que du côté serveur on ne sait pas ce qu'il y a dans la méthode `run` et donc ça peut être un bête calcul de moyenne comme illustré dans l'exemple. Ou alors des choses un peu plus méchantes, comme la suppression de toutes les données du serveur, la récupération des données du serveur et leur envoi vers un autre serveur, ... C'est ce que l'on appelle de l'injection de code et c'est jamais joli !! \n",
    "\n",
    "C'est donc pour cette raison que je n'ai pas fait cet exemple en vrai car cela aurait ouvert une énorme faille de sécurité sur le serveur. "
   ]
  },
  {
   "cell_type": "markdown",
   "metadata": {},
   "source": [
    "### La sérialisation 100% Web, le json"
   ]
  },
  {
   "cell_type": "markdown",
   "metadata": {},
   "source": [
    "Maintenant que nous avons vu `pickle` nous savons sérialiser des données et donc les envoyer via notre connexion TCP sans problème. La limitation de l'approche `Pickle` repose, comme nous l'avons déjà dit, sur le fait qu'elle n'est compatible qu'avec du Python. Il faut donc que le client et le serveur soient tous deux en Python. Or cela est quand même fâcheux car tout l'intérêt de la coopération par réseau est d'avoir des environnements hétérogènes utilisant divers langages. Donc Pickle ne semble pas être optimal. "
   ]
  },
  {
   "cell_type": "markdown",
   "metadata": {},
   "source": [
    "Mais pas de souci il y a une solution. C'est le format de donnée json, pour Javascript Object Notation. Alors oui il y a javascript dans le nom mais non ce n'est pas limité à ce seul langage. Pour la petite histoire le json tire son inspiration des object javascript, d'où son nom, et s'est imposé depuis maintenant un peu plus de 10 ans comme une référence dans le domaine de la sérialisation de donnée orienté Web, mais pas que. On retrouve désormais du json dans de nombreuses applications. L'avantage est qu'il existe des librairies json dans la plupart des langages de programmation ce qui va ainsi nous permettre des architecture hétérogène et une intéropérabilité accrue.  "
   ]
  },
  {
   "cell_type": "markdown",
   "metadata": {},
   "source": [
    "Le principe du json est très simple, il est constitué d'une arborescence de type clé-valeur et/ou de listes ordonnées permettant de représenter une structure de données. Ce qu'il est important de souligner à ce niveau c'est que les valeurs vont être typées, les types disponibles en json sont les types de base présents dans la quasi-totalité des langages à savoir : \n",
    "\n",
    "* Chaîne de caractères : une séquence de N caractères unicode. Elles sont obligatoirement entourées de guillemets ;\n",
    "* Nombre : un nombre décimal signé. Le json ne fait aucune distinction entre un entier et un flottant ;\n",
    "* Booléen : true ou false sont utilisés pour définir l'état du booléen ;\n",
    "* Type null : une valeur vide, utilisant le mot clé null ;\n",
    "* Tableau.\n",
    "\n",
    "Contrairement au Pickle on ne peut donc pas sérialiser une classe ou une fonction. Cependant les cinq types énoncés précédemment permettent largement de couvrir l'intégralité des besoins. "
   ]
  },
  {
   "cell_type": "markdown",
   "metadata": {},
   "source": [
    "Bien évidemment Python dispose d'un module permettant de travailler avec le format json."
   ]
  },
  {
   "cell_type": "code",
   "execution_count": null,
   "metadata": {},
   "outputs": [],
   "source": [
    "import json "
   ]
  },
  {
   "cell_type": "markdown",
   "metadata": {},
   "source": [
    "Si l'on reprend alors l'exemple précédent de la sérialisation d'une liste hétérogène, on obtient : "
   ]
  },
  {
   "cell_type": "code",
   "execution_count": null,
   "metadata": {},
   "outputs": [],
   "source": [
    "data = [ (0,1,2), True, [\"coucou\", \"byebye\"]]\n",
    "data_json = json.dumps( data )\n",
    "print(data_json)"
   ]
  },
  {
   "cell_type": "markdown",
   "metadata": {},
   "source": [
    "Mais il n'y a aucune différence !!! Si ! en regardant attentivement vous verrez que : (i) les parenthèses sont devenues crochets car json ne sait pas ce qu'est un tuple il le traduit en liste ; (ii) le `True` est devenu true.  Et surtout si on regarde le type des données : "
   ]
  },
  {
   "cell_type": "code",
   "execution_count": null,
   "metadata": {},
   "outputs": [],
   "source": [
    "print(f\"type(data) = {type(data)}\")\n",
    "print(f\"type(data_json) = {type(data_json)}\")\n"
   ]
  },
  {
   "cell_type": "markdown",
   "metadata": {},
   "source": [
    "Notre donnée `data` est donc maintenant représentée sous la forme d'une chaîne de caractères que l'on peut encoder et envoyer à un serveur. Vous pourriez me dire: quel intérêt de faire du json on aurait pu faire la chaîne de caractères nous-même. Oui c'est vrai mais alors vous auriez choisi un formalisme que vous seul auriez compris et vous seriez incapable de communiquer proprement avec un serveur que vous n'auriez pas vous même implémenté. "
   ]
  },
  {
   "cell_type": "code",
   "execution_count": null,
   "metadata": {},
   "outputs": [],
   "source": [
    "json.loads(data_json)"
   ]
  },
  {
   "cell_type": "markdown",
   "metadata": {},
   "source": [
    "## Retour à notre client TCP "
   ]
  },
  {
   "cell_type": "markdown",
   "metadata": {},
   "source": [
    "Maintenant que l'on sait comment sérialiser des données, je vous propose un petit exemple de client qui a pour objectif d'intéragir avec un serveur qui va jouer le rôle d'un carnet de contact."
   ]
  },
  {
   "cell_type": "markdown",
   "metadata": {},
   "source": [
    "Première étape: lancer le serveur "
   ]
  },
  {
   "cell_type": "code",
   "execution_count": null,
   "metadata": {},
   "outputs": [],
   "source": [
    "import subprocess\n",
    "proc=subprocess.Popen(\"python ../sandbox/server_contact.py\", shell=True)"
   ]
  },
  {
   "cell_type": "code",
   "execution_count": null,
   "metadata": {},
   "outputs": [],
   "source": [
    "import socket\n",
    "import json \n",
    "class ContactClient:\n",
    "    def __init__( self, host, port):\n",
    "        self.__host = host\n",
    "        self.__port = port \n",
    "        \n",
    "    def connect(self):\n",
    "        self.__socket = socket.socket(socket.AF_INET, socket.SOCK_STREAM)\n",
    "        self.__socket.connect((self.__host, self.__port))\n",
    "        \n",
    "    def command(self, cmd, **args):\n",
    "        \n",
    "        self.connect()\n",
    "        data = {\"cmd\": cmd, \"args\": args}\n",
    "        \n",
    "        to_send = json.dumps(data).encode()\n",
    "        \n",
    "        sz = self.__socket.send( to_send )\n",
    "        \n",
    "        buff = self.__socket.recv(1024).decode()\n",
    "        data_srv = buff\n",
    "        while buff != \"\":\n",
    "            buff = self.__socket.recv(1024).decode()\n",
    "            data_srv += buff\n",
    "\n",
    "        ret = json.loads(data_srv)\n",
    "        if ret[\"status\"] is False:\n",
    "            print(\"ERROR : \" + ret[\"msg\"])\n",
    "            return \n",
    "        else:\n",
    "            return ret[\"msg\"], ret[\"data\"]        "
   ]
  },
  {
   "cell_type": "code",
   "execution_count": null,
   "metadata": {},
   "outputs": [],
   "source": [
    "c = ContactClient(\"localhost\", 3001)\n",
    "c.command(\"list\")"
   ]
  },
  {
   "cell_type": "code",
   "execution_count": null,
   "metadata": {},
   "outputs": [],
   "source": [
    "c.command(\"add\", name=\"Basile Marchand\", mail=\"basile.marchand@mines-paristech.fr\")"
   ]
  },
  {
   "cell_type": "code",
   "execution_count": null,
   "metadata": {},
   "outputs": [],
   "source": [
    "c.command(\"list\")"
   ]
  },
  {
   "cell_type": "code",
   "execution_count": null,
   "metadata": {},
   "outputs": [],
   "source": [
    "proc.terminate()"
   ]
  },
  {
   "cell_type": "markdown",
   "metadata": {},
   "source": [
    "Ainsi avec une telle approche nous pouvons déjà réaliser des applications client-serveur relativement interactives et permettant une large gamme de possibilités. \n",
    "\n",
    "En revanche on commence a voir apparaître une difficulté qui est que pour réaliser notre application contact il est nécessaire de se définir une syntaxe. Dans notre cas cette syntaxe passe par la définition d'une structure avec certains arguments requis. L'avantage de cette approche c'est la modularité, vous pouvez faire tout ce que vous voulez. En revanche l'inconvénient majeur c'est que vous êtes seul au monde, car votre syntaxe n'est pas nécessairement celle de votre voisin(e). Donc dans le cas d'une application client-serveur que vous faites vous-même from scratch et qui ne devra jamais interagir avec le monde extérieur pas de problème. En revanche, si vous souhaitez vous inscrire dans une démarche plus modulaire et interopérable avec le monde extérieur il va nous falloir un peu plus que cela. C'est à cela que sert la couche 7 du modèle OSI, la couche applicative. \n"
   ]
  },
  {
   "cell_type": "markdown",
   "metadata": {},
   "source": [
    "### Protocol HTTP ou un peu de normalisation des échanges"
   ]
  },
  {
   "cell_type": "markdown",
   "metadata": {},
   "source": [
    "Pour le moment nous avons vu comment initialiser une connexion réseau via un socket et envoyer un message quelconque sous la forme de bytes. Cependant c'est loin d'être suffisant pour se lancer dans le monde obscur du Web. En effet faisons un test, nous allons nous connecter via un socket à la page d'accueil de google et voir ce que l'on peut faire. "
   ]
  },
  {
   "cell_type": "code",
   "execution_count": null,
   "metadata": {},
   "outputs": [],
   "source": [
    "import socket \n",
    "\n",
    "params = (\"www.google.com\", 80)\n",
    "client = socket.socket(socket.AF_INET, socket.SOCK_STREAM)  \n",
    "client.connect(params)"
   ]
  },
  {
   "cell_type": "markdown",
   "metadata": {},
   "source": [
    "Ok on est connecté mais qu'est ce qu'on fait du coup ? On peut essayer de lui envoyer un Hello pour voir ce qui se passe. "
   ]
  },
  {
   "cell_type": "code",
   "execution_count": null,
   "metadata": {},
   "outputs": [],
   "source": [
    "### Du code annexe pour mettre un timeout sur le bloc suivant \n",
    "from contextlib import contextmanager\n",
    "import signal\n",
    "\n",
    "def raise_timeout(signum, frame):\n",
    "    raise TimeoutError\n",
    "\n",
    "\n",
    "@contextmanager\n",
    "def timeout(time):\n",
    "    # Register a function to raise a TimeoutError on the signal.                      \n",
    "    signal.signal(signal.SIGALRM, raise_timeout)\n",
    "    # Schedule the signal to be sent after ``time``.                                  \n",
    "    signal.alarm(time)\n",
    "\n",
    "    try:\n",
    "        yield\n",
    "    except TimeoutError:\n",
    "        print(\"Raise a TimeOutError\")\n",
    "    finally:\n",
    "        # Unregister the signal so it won't be triggered                              \n",
    "        # if the timeout is not reached.                                              \n",
    "        signal.signal(signal.SIGALRM, signal.SIG_IGN)\n",
    "\n"
   ]
  },
  {
   "cell_type": "code",
   "execution_count": null,
   "metadata": {},
   "outputs": [],
   "source": [
    "with timeout(10):\n",
    "    client.send(b\"Hello Google\")\n",
    "    retour = client.recv(4096)\n",
    "    print(f\"Reponse du server : {retour}\")"
   ]
  },
  {
   "cell_type": "markdown",
   "metadata": {},
   "source": [
    "Bon et bien en fait il ne se passe rien, le serveur ne sait pas quoi faire car il ne comprend pas notre requête (il n'est pas très poli) et donc il ne donne aucune réponse. En effet si on veut interroger un site web il faut utiliser le protocole HTTP et celui ci est plutôt strict sur le format des messages. "
   ]
  },
  {
   "cell_type": "code",
   "execution_count": null,
   "metadata": {},
   "outputs": [],
   "source": [
    "# send some data \n",
    "request = \"GET / HTTP/1.1\\r\\nHost:%s\\r\\n\\r\\n\" % params[0]\n",
    "client.send(request.encode())  \n",
    "# receive some data \n",
    "response = client.recv(100*4096)\n",
    "\n",
    "    \n",
    "http_response = response\n",
    "http_response_len = len(http_response)\n"
   ]
  },
  {
   "cell_type": "code",
   "execution_count": null,
   "metadata": {},
   "outputs": [],
   "source": [
    "from IPython.display import HTML\n",
    "\n",
    "HTML(response.decode(\"utf-8\", \"replace\"))"
   ]
  },
  {
   "cell_type": "markdown",
   "metadata": {},
   "source": [
    "Nous avons donc pu récupérer la page Web de l’accueil google et l'afficher. Mais nous ne pouvons pas aller beaucoup plus loin. En effet pour interagir avec des ressources web via le protocole HTTP il est nécessaire de construire des requêtes HTTP, c'est-à-dire ces fameux messages que l'on envoie comprenant de nombreuses informations additionnelles. De plus vous remarquez sans doute qu'il y a quelques problèmes de rendu dans la page que l'on a affichée. C'est parce que nous avons reçu une page web mais que nous n'avons pas fait la demande pour les feuilles de style (les fichiers css) associés. "
   ]
  },
  {
   "cell_type": "markdown",
   "metadata": {},
   "source": [
    "Nous allons donc voir comment générer des requètes HTTP en Python de manière simple. Il existe deux approches possible pour gérer des requêtes HTTP en Python. La première utilise le module `http` tandis que la seconde utilise le module `request`."
   ]
  },
  {
   "cell_type": "code",
   "execution_count": null,
   "metadata": {},
   "outputs": [],
   "source": [
    "import http"
   ]
  },
  {
   "cell_type": "code",
   "execution_count": null,
   "metadata": {},
   "outputs": [],
   "source": [
    "connection = http.client.HTTPConnection(\"www.bmarchand.fr\")\n",
    "connection.request(\"GET\", \"/\")\n",
    "response = connection.getresponse()\n",
    "print(\"Status: {} and reason: {}\".format(response.status, response.reason))\n",
    "\n"
   ]
  },
  {
   "cell_type": "code",
   "execution_count": null,
   "metadata": {},
   "outputs": [],
   "source": [
    "from IPython.display import HTML\n",
    "\n",
    "data = response.read()\n",
    "\n",
    "#HTML(response.read())"
   ]
  },
  {
   "cell_type": "code",
   "execution_count": null,
   "metadata": {},
   "outputs": [],
   "source": [
    "\n",
    "HTML(data.decode(\"utf-8\", \"replace\"))"
   ]
  },
  {
   "cell_type": "markdown",
   "metadata": {},
   "source": [
    "On peut facilement obtenir le même résultat à l'aide du module `requests` de Python. "
   ]
  },
  {
   "cell_type": "code",
   "execution_count": null,
   "metadata": {},
   "outputs": [],
   "source": [
    "import requests\n",
    "\n",
    "out = requests.get(\"http://bmarchand.fr\")"
   ]
  },
  {
   "cell_type": "code",
   "execution_count": null,
   "metadata": {},
   "outputs": [],
   "source": [
    "out.headers"
   ]
  },
  {
   "cell_type": "markdown",
   "metadata": {},
   "source": [
    "On peut alors observer un certain nombre de choses. La première c'est que comme dans notre exemple avec le client TCP bas niveau la page n'est pas complètement chargée car il manque les feuilles de styles, les images, ... Et c'est normal, car nous ne les avons pas demandées, en effet quand vous consultez un site web via votre navigateur préféré c'est ce dernier qui s'occupe de parser le fichier html reçu pour regarder s'il n'a pas besoin d'autres fichiers (css, js, ...) et si c'est le cas c'est le navigateur qui fait la requête pour chaque fichier nécessaire. Donc quand vous chargez une page web votre navigateur ne fait pas une seule requête mais il en fait plusieurs dizaines généralement. "
   ]
  },
  {
   "cell_type": "markdown",
   "metadata": {},
   "source": [
    "Ensuite vous avez peut être remarqué que dans les deux cas nous avons utilisé la notion de 'GET'. Cela traduit le fait que notre requête est de type GET. C'est à dire une requête pour obtenir une ressource du serveur. Et donc si cette requête est de type GET cela signifie qu'il y a des requête de type pas GET et vous avez raison. \n",
    "\n",
    "Il existe un certain nombre de types de requêtes HTTP, les principales sont les suivantes : \n",
    "\n",
    "* GET : méthode pour obtenir une ressource, page web, fichier de style, image, ... \n",
    "* POST : méthode pour envoyer des données à une ressource en vue de leur traitement. Typiquement lorsque vous remplissez un formulaire sur un site web les données sont envoyées au serveur via un POST. \n",
    "* DELETE : méthode pour supprimer une ressource"
   ]
  },
  {
   "cell_type": "markdown",
   "metadata": {},
   "source": [
    "Commencons par tester ces trois types de requêtes. Pour cela le site [http://httpbin.org](http://httpbin.org) met à disposition un serveur de test relativement utile. "
   ]
  },
  {
   "cell_type": "code",
   "execution_count": null,
   "metadata": {},
   "outputs": [],
   "source": [
    "get_out = requests.get(\"http://httpbin.org/get\")\n",
    "print( get_out.content.decode())"
   ]
  },
  {
   "cell_type": "code",
   "execution_count": null,
   "metadata": {},
   "outputs": [],
   "source": [
    "get_out = requests.get(\"http://httpbin.org/get?a=10&b=100\")\n",
    "print( get_out.content.decode())"
   ]
  },
  {
   "cell_type": "code",
   "execution_count": null,
   "metadata": {},
   "outputs": [],
   "source": [
    "post_out = requests.post(\"http://httpbin.org/post\", data={\"name\": \"Basile Marchand\", \"mail\": \"basile.marchand@mines-paristech.fr\"})\n",
    "print(get_out.content.decode())"
   ]
  },
  {
   "cell_type": "code",
   "execution_count": null,
   "metadata": {},
   "outputs": [],
   "source": [
    "delete_out = requests.delete(\"http://httpbin.org/delete\")\n",
    "print(delete_out.content.decode())"
   ]
  },
  {
   "cell_type": "markdown",
   "metadata": {},
   "source": [
    "### Un mot sur la notion d'API web"
   ]
  },
  {
   "cell_type": "markdown",
   "metadata": {},
   "source": [
    "La question que vous vous posez peut-être c'est pourquoi s’embêter à faire des requêtes HTTP en Python si on n'est même pas capable avec ça de récupérer une page Web correctement. Pour la simple et bonne raison que la page web en elle-même n'a aucune intérêt !  Ce qui compte ce sont les données cachées derrière. Le plus bel exemple pour illustrer cela c'est Google !"
   ]
  },
  {
   "cell_type": "markdown",
   "metadata": {},
   "source": [
    "Regardez leur page web [www.google.com](www.google.com) la page web en soit, en plus de ne pas être particulièrement sexy, n'a aucun intérêt. Et pourtant Google aujourd'hui c'est plus de 80.000 employés dans le monde et une capitalisation boursière de 1000 milliards de dollars. Et c'est vrai pour tout, aujourd'hui le trafic internet n'est qu'en très faible partie constitué du transfert de page web. Le plus gros du transfert c'est de la donnée \"brute\". Par exemple aujourd'hui en France un quart de la bande passante Internet est utilisée pour du Netflix et ce qui consomme tant la dedans ce n'est pas l'envoi de la page Web pour vous connecter à votre compte Netflix, c'est le transfert de votre vidéo en streaming. \n",
    " \n",
    "Tout ça pour dire que ce qui compte dans le Web ce n'est pas l'emballage mais la donnée. Et cette donnée on y accède grâce à une API. "
   ]
  },
  {
   "cell_type": "markdown",
   "metadata": {},
   "source": [
    "Une API, pour Application Programming Interface, c'est ce qui permet de définir comment un programme consommateur va pouvoir exploiter les fonctionnalités données d'un programme fournisseur. La notion d'API n'est pas limitée au domaine du web. Elle existe dans tous les domaines de la programmation.\n",
    "\n",
    "Dans le domaine particulier du Web l'API se définit en fait à partir d'une URL. En effet l'accès à la ressource se fait en effectuant une requête GET sur un url particulière. \n",
    "\n",
    "\n",
    "Considérons par exemple le cas d'un serveur générant des listes de nombres aléatoires à la demande. L'api d'un tel serveur pourrait être \n",
    "\n",
    "* `/api/integer` renvoie un nombre aléatoire entier\n",
    "* `/api/float`   renvoie un nombre aléatoire flottant \n",
    "* `/api/integer?n=100` renvoie 100 nombres aléatoires entiers\n",
    "* ... "
   ]
  },
  {
   "cell_type": "markdown",
   "metadata": {},
   "source": [
    "Pour lancer le serveur il faut exécuter la cellule suivante : "
   ]
  },
  {
   "cell_type": "code",
   "execution_count": null,
   "metadata": {},
   "outputs": [],
   "source": [
    "import subprocess\n",
    "proc=subprocess.Popen(\"python ../sandbox/server_http_random.py\", shell=True)"
   ]
  },
  {
   "cell_type": "code",
   "execution_count": null,
   "metadata": {},
   "outputs": [],
   "source": [
    "out = requests.get(\"http://localhost:3003/api/random/int\")\n",
    "print( out.json() )"
   ]
  },
  {
   "cell_type": "code",
   "execution_count": null,
   "metadata": {},
   "outputs": [],
   "source": [
    "out = requests.get(\"http://localhost:3003/api/random/float\")\n",
    "print( out.json() )"
   ]
  },
  {
   "cell_type": "code",
   "execution_count": null,
   "metadata": {},
   "outputs": [],
   "source": [
    "out = requests.get(\"http://localhost:3003/api/random/int?n=20\")\n",
    "print( out.json() )"
   ]
  },
  {
   "cell_type": "code",
   "execution_count": null,
   "metadata": {},
   "outputs": [],
   "source": [
    "out = requests.get(\"http://localhost:3003/api/random/int?n=20\")\n",
    "print( out.json() )"
   ]
  },
  {
   "cell_type": "markdown",
   "metadata": {},
   "source": [
    "Pour finir il faut penser à fermer le serveur en tâche de fond. "
   ]
  },
  {
   "cell_type": "code",
   "execution_count": null,
   "metadata": {},
   "outputs": [],
   "source": [
    "proc.terminate()"
   ]
  },
  {
   "cell_type": "markdown",
   "metadata": {},
   "source": [
    "Donc pour conclure sur les API il s'agit d'un moyen très simple pour offrir une interface vers des ressources et données distantes. La seule difficulté dans ce domaine c'est la définition et surtout la documentation des API. Donc si vous mettez en place un service Web disposant d'une API et que vous souhaitez ouvrir votre service vers l'extérieur merci de prendre le temps de documenter votre API. Mais nous verrons cela la semaine prochaine ;) "
   ]
  },
  {
   "cell_type": "markdown",
   "metadata": {},
   "source": [
    "## Application"
   ]
  },
  {
   "cell_type": "markdown",
   "metadata": {},
   "source": [
    "Maintenant que vous maîtrisez parfaitement le côté ~lumineux de la force~ client je vous propose un exercice. Vous allez devoir faire un programme Python qui va aller chercher de la donnée sur le Web. Pour cela je vous laisse libre sur le type de données que vous souhaitez traiter (à tout hasard on peut utiliser les chiffres du Covid19). Pour faciliter vos recherches de données, je vous propose de faire un tour sur le site [https://public.opendatasoft.com](https://public.opendatasoft.com) qui met à disposition un ensemble très vaste de données et propose pour chaque jeux de données des API web permettant de faire les requêtes HTTP. "
   ]
  },
  {
   "cell_type": "markdown",
   "metadata": {},
   "source": [
    "Donc l'idée est que vous vous choisissiez une thématique, faites vous plaisir. Ça peut être les chiffres sur le Covid19 ou des données d'économie, météorologie ... Et à partir de votre thématique vous devez réaliser un notebook faisant les choses suivantes : \n",
    "\n",
    "1. Présentation du sujet \n",
    "2. Récupération judicieuse des données sur le web via des requêtes HTTP (judicieuse = on ne récupère que ce dont on vraiment besoin)\n",
    "3. Traitement de données, libre à vous, il faut faire dire des choses aux chiffres !\n",
    "4. Synthèse des résultats, beaux graphiques. \n",
    "    "
   ]
  },
  {
   "cell_type": "markdown",
   "metadata": {},
   "source": [
    "Et vous m'enverrez à la fin votre notebook avant le 28/04/2020"
   ]
  }
 ],
 "metadata": {
  "kernelspec": {
   "display_name": "Python 3",
   "language": "python",
   "name": "python3"
  },
  "language_info": {
   "codemirror_mode": {
    "name": "ipython",
    "version": 3
   },
   "file_extension": ".py",
   "mimetype": "text/x-python",
   "name": "python",
   "nbconvert_exporter": "python",
   "pygments_lexer": "ipython3",
   "version": "3.7.0"
  },
  "toc": {
   "base_numbering": 1,
   "nav_menu": {},
   "number_sections": true,
   "sideBar": true,
   "skip_h1_title": false,
   "title_cell": "Table of Contents",
   "title_sidebar": "Contents",
   "toc_cell": false,
   "toc_position": {},
   "toc_section_display": true,
   "toc_window_display": false
  }
 },
 "nbformat": 4,
 "nbformat_minor": 2
}
