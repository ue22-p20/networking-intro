{
 "cells": [
  {
   "cell_type": "markdown",
   "metadata": {},
   "source": [
    "# Introduction aux WebSocket"
   ]
  },
  {
   "cell_type": "markdown",
   "metadata": {},
   "source": [
    "## Un peu plus de souplesse"
   ]
  },
  {
   "cell_type": "markdown",
   "metadata": {},
   "source": [
    "Dans tout ce que nous venons de voir il y a un point qui vous a peut-être interpelé c'est la rigidité des communications via réseau. En effet dans tous les cas il y a un protocole bien établi à suivre qui est : \n",
    "\n",
    "1. Le client se connecte au serveur\n",
    "2. Le client envoie un message au serveur\n",
    "3. Le serveur réceptionne le message et répond au client\n",
    "4. Le client reçoit la réponse du serveur. \n",
    "5. La connexion se ferme \n",
    "\n",
    "Plus particulièrement ce qui pourrait vous choquer c'est qu'afin que le serveur puisse envoyer un message au client il est impératif que ce dernier ait d'abord envoyé un message au serveur. On est toujours dans un modèle où le client amorce la discussion et le serveur ne fait que répondre. "
   ]
  },
  {
   "cell_type": "markdown",
   "metadata": {},
   "source": [
    "Fondamentalement ce n'est pas pénalisant vous allez me dire. Oui mais un peu quand même. Considérons par exemple le cas d'une application de messagerie instantanée, par exemple mattermost (je ne dis pas Slack par pur esprit de contradiction). Le principe est que l'on a un serveur et N clients. Chacun des N clients écrit sur le fil de discussion. Sauf que quand un client écrit les autres n'en savent rien et le serveur ne peut pas leur dire puisqu'il ne peut pas initier la discussion. Donc le seul moyen pour les clients de savoir si quelqu'un a écrit quelque chose est de faire une requête au serveur et il faut faire cette requête a intervalle régulier et relativement cours pour conserver une certaine fluidité dans la discussion. On a donc ici une des limites du modèle de communication traditionnel. "
   ]
  },
  {
   "cell_type": "markdown",
   "metadata": {},
   "source": [
    "C'est dans ce contexte qu'est apparu le protocole websocket. Le principe est très simple, il s'agit d'établir une connexion bidirectionnelle entre un client et le serveur, on parle de connexion *full-duplex*. Cela permet alors au serveur de pousser des informations vers le client sans que ce dernier n'est rien demandé. Il faut bien voir que le protocole websocket est relativement récent par rapport au HTTP. En effet la première normalisation de websocket date de 2011 tandis que le HTTP remonte lui à 1990 (la meilleure année !!) "
   ]
  },
  {
   "cell_type": "markdown",
   "metadata": {},
   "source": [
    "## Librairies websocket"
   ]
  },
  {
   "cell_type": "markdown",
   "metadata": {},
   "source": [
    "Websocket étant un protocole et non pas une librairie il en existe de très nombreuses implémentations dans différents langages. \n",
    "\n",
    "Dans le cadre de ce cours nous utiliserons pour le côté serveur le module tornado de Python qui est un framework web Python offrant de nombreuses fonctionnalités notamment un usage intensif de la programmation asynchrone ce qui permet de construire simplement des serveur web pouvant gérer un très grand nombre de connections. \n",
    "\n",
    "De la même manière pour le côté serveur nous utiliserons également tornado, mais nous pourrions utiliser un autre module. \n"
   ]
  },
  {
   "cell_type": "markdown",
   "metadata": {},
   "source": [
    "Par défaut le module `tornado` n'est pas installé dans vos distribution Python. Pour résoure ce problème il vous \n",
    "suffit comme d'habitude de faire \n",
    "\n",
    "```bash \n",
    "pip install tornado\n",
    "```"
   ]
  },
  {
   "cell_type": "markdown",
   "metadata": {},
   "source": [
    "## Côté client "
   ]
  },
  {
   "cell_type": "markdown",
   "metadata": {},
   "source": [
    "Nous allons tout de suite voir comment les websocket s'utilisent côté client. Mais avant de nous lancer en Python faisons le test en javascript. En effet le websocket est une technologie issue du web donc le langage qui le supporte le plus simplement c'est le javascript. "
   ]
  },
  {
   "cell_type": "markdown",
   "metadata": {},
   "source": [
    "Pour commencer il nous faut un serveur. Pour cela nous allons lancer en tâche de fond un server websocket écrit avec tornado. Nous aurions pu utiliser un serveur de test disponible sur le net, par exemple `wss://echo.websocket.org` mais cela ne nous permettrait d'illustrer tout ce que l'on souhaite. "
   ]
  },
  {
   "cell_type": "code",
   "execution_count": 12,
   "metadata": {},
   "outputs": [],
   "source": [
    "import subprocess\n",
    "proc = subprocess.Popen(\"python ../sandbox/ws_echo_server.py\", shell=True)"
   ]
  },
  {
   "cell_type": "markdown",
   "metadata": {},
   "source": [
    "Voici ci dessous comment se fait la création d'un webscoket (côté client) en javascript. On constate qu'il n'y a que quatre méthodes à définir : \n",
    "\n",
    "* `onopen` qui est appelée à l'ouverture du websocket \n",
    "* `onclose` appelée à la fermeture du websocket\n",
    "* `onerror` appelée en cas d'évènement imprévu\n",
    "* `onmessage` qui est la fonction appelée à chaque fois que notre websocket reçoit un message du server\n",
    "\n",
    "Les trois premières méthodes sont optionnelles, on peut très bien ne pas les définir il y a une implémentation par défaut. En revanche il faut nécessairement définir la méthode `onmessage` car c'est elle qui va vous permettre de définir le comportement que vous souhaitez pour votre programme. "
   ]
  },
  {
   "cell_type": "markdown",
   "metadata": {},
   "source": [
    "Si vous exécutez la cellule ci-dessous vous allez voir apparaitre des fenêtres (correspondant à l'utilisation de `alert`)."
   ]
  },
  {
   "cell_type": "code",
   "execution_count": 13,
   "metadata": {},
   "outputs": [
    {
     "data": {
      "application/javascript": [
       "\n",
       "var socket = new WebSocket(\"ws://localhost:3060/ws\")\n",
       "socket.onopen = function(e) {\n",
       "  alert(\"[open] Connection established\");\n",
       "  alert(\"Sending to server\");\n",
       "  socket.send(\"My name is John\");\n",
       "};\n",
       "\n",
       "socket.onmessage = function(event) {\n",
       "  alert(`[message] Data received from server: ${event.data}`);\n",
       "};\n",
       "\n",
       "socket.onclose = function(event) {\n",
       "  if (event.wasClean) {\n",
       "    alert(`[close] Connection closed cleanly, code=${event.code} reason=${event.reason}`);\n",
       "  } else {\n",
       "    // e.g. server process killed or network down\n",
       "    // event.code is usually 1006 in this case\n",
       "    alert('[close] Connection died');\n",
       "  }\n",
       "};\n",
       "\n",
       "socket.onerror = function(error) {\n",
       "  alert(`[error] ${error.message}`);\n",
       "};\n"
      ],
      "text/plain": [
       "<IPython.core.display.Javascript object>"
      ]
     },
     "metadata": {},
     "output_type": "display_data"
    }
   ],
   "source": [
    "%%javascript\n",
    "\n",
    "var socket = new WebSocket(\"ws://localhost:3060/ws\")\n",
    "socket.onopen = function(e) {\n",
    "  alert(\"[open] Connection established\");\n",
    "  alert(\"Sending to server\");\n",
    "  socket.send(\"My name is John\");\n",
    "};\n",
    "\n",
    "socket.onmessage = function(event) {\n",
    "  alert(`[message] Data received from server: ${event.data}`);\n",
    "};\n",
    "\n",
    "socket.onclose = function(event) {\n",
    "  if (event.wasClean) {\n",
    "    alert(`[close] Connection closed cleanly, code=${event.code} reason=${event.reason}`);\n",
    "  } else {\n",
    "    // e.g. server process killed or network down\n",
    "    // event.code is usually 1006 in this case\n",
    "    alert('[close] Connection died');\n",
    "  }\n",
    "};\n",
    "\n",
    "socket.onerror = function(error) {\n",
    "  alert(`[error] ${error.message}`);\n",
    "};"
   ]
  },
  {
   "cell_type": "markdown",
   "metadata": {},
   "source": [
    "Si maintenant on exécute la cellule suivante qui va avoir pour effet d'éteindre le serveur websocket vous allez voir apparaître un nouveau message d'alerte lié au fait que le client est informé que le serveur est éteint. "
   ]
  },
  {
   "cell_type": "code",
   "execution_count": 14,
   "metadata": {},
   "outputs": [],
   "source": [
    "proc.terminate()"
   ]
  },
  {
   "cell_type": "markdown",
   "metadata": {},
   "source": [
    "Nous allons maintenant voir comment dans l'environnement Python il est possible de mettre en place un client WebSocket. Tout d'abord je tiens à préciser qu'il existe plein de module Python différents permettant de faire cela. Nous allons ici le faire avec tornado histoire de ne pas avoir d'autres installation à faire. De plus j'ajouterai qu'autant faire le côté serveur en Python semble naturel et nous verrons plus tard que c'est relativement simple, autant le client websocket est plus généralement fait en javascript, ça arrive que l'on ait besoin dans une application donnée d'avoir un client websocket Python mais dans la majorité des cas on va plutôt utiliser du javascript côté client. "
   ]
  },
  {
   "cell_type": "markdown",
   "metadata": {},
   "source": [
    "La création du client WebSocket se fait à l'aide de la fonction `websocket_connect` du module `tornado`. Avant de l'utiliser il faut que je vous mettes en garde sur quelques points. Tout d'abord le module tornado est concu afin d'être très performant et pour cela il utilise de la programmation asynchrone. Pour celles et ceux qui sont intéréssé par la programmation asynchrone je vous conseille d'aller faire un tour sur le MOOC Python de l'Inria. Et pour ceux que ça n'intéresse pas j'espère que vous n'êtes pas dans les groupes Python pour les cours d'apprentissage de la programmation car c'est ce que vous allez faire à la dernière séance !! Tout ça pour dire qu'il va y avoir quelques bizarrerie dans la syntaxe des `await` entre autres, non ne vous inquiétez pas le confinement ne m'a pas rendu fou c'est lié à cet aspect asynchrone. "
   ]
  },
  {
   "cell_type": "code",
   "execution_count": 15,
   "metadata": {},
   "outputs": [],
   "source": [
    "from tornado.websocket import websocket_connect"
   ]
  },
  {
   "cell_type": "code",
   "execution_count": 16,
   "metadata": {},
   "outputs": [],
   "source": [
    "import subprocess\n",
    "proc = subprocess.Popen(\"python ../sandbox/ws_echo_server.py\", shell=True)"
   ]
  },
  {
   "cell_type": "markdown",
   "metadata": {},
   "source": [
    "Nous allons tout d'abord définir une fonction `on_message` qui va nous servire de *callback*, c'est-à-dire que cette fonction sera appelée à chaque fois que notre client recevra un message. Et ensuite on peut initialiser notre client"
   ]
  },
  {
   "cell_type": "code",
   "execution_count": 17,
   "metadata": {},
   "outputs": [],
   "source": [
    "def on_message( msg ):\n",
    "    print(f\"[In on message] {msg}\")\n",
    "\n",
    "ws = await websocket_connect(\"ws://localhost:3060/ws\", on_message_callback=on_message)"
   ]
  },
  {
   "cell_type": "code",
   "execution_count": 18,
   "metadata": {},
   "outputs": [
    {
     "name": "stdout",
     "output_type": "stream",
     "text": [
      "<tornado.websocket.WebSocketClientConnection object at 0x7f00380b4850>\n"
     ]
    }
   ],
   "source": [
    "print(ws)"
   ]
  },
  {
   "cell_type": "markdown",
   "metadata": {},
   "source": [
    "On constate donc que l'on récupère un objet de type `WebSocketClientConnection` qui est notre client websocket. À partir de là il nous suffit simplement d'utiliser la méthode `write_message` de notre client pour envoyer un message à notre serveur de test qui je le rappelle ne fait qu'un echo. "
   ]
  },
  {
   "cell_type": "code",
   "execution_count": 19,
   "metadata": {},
   "outputs": [
    {
     "name": "stdout",
     "output_type": "stream",
     "text": [
      "[In on message] You said: coucou\n",
      "[In on message] You said: byebye\n",
      "[In on message] You said: vive la MMC\n"
     ]
    }
   ],
   "source": [
    "await ws.write_message(\"coucou\")\n",
    "await ws.write_message(\"byebye\")\n",
    "await ws.write_message(\"vive la MMC\")"
   ]
  },
  {
   "cell_type": "markdown",
   "metadata": {},
   "source": [
    "On constate donc que l'on obtient bien le résultat attentu.Si maintenant on coupe le serveur websocket nous allons voir que l'on reçoit alors un message sans contenu ce qui nous permet si on le souhaite d'intercepter au niveau du *callback* la coupure du serveur. "
   ]
  },
  {
   "cell_type": "code",
   "execution_count": 20,
   "metadata": {},
   "outputs": [],
   "source": [
    "proc.terminate()"
   ]
  },
  {
   "cell_type": "markdown",
   "metadata": {},
   "source": [
    "À partir de ces quelques éléments nous avons tout ce qu'il nous faut à disposition pour réaliser des applications, côté client exploitant les websockets. Car bien évidemment le contenu du message peut-être bien plus qu'un simple `\"coucou\"` il peut s'agit d'un ensemble de données sérialisé en json. "
   ]
  },
  {
   "cell_type": "markdown",
   "metadata": {},
   "source": [
    "## Côté serveur"
   ]
  },
  {
   "cell_type": "markdown",
   "metadata": {},
   "source": [
    "Maintenant que l'on sait créer un client websocket voyons un peu comment faire le serveur qui va avec. Pour cela le module tornado nous met à disposition tout ce qu'il faut pour qe cela se fasse sans douleur. "
   ]
  },
  {
   "cell_type": "markdown",
   "metadata": {},
   "source": [
    "La démarche à suivre est très similaire à ce que l'on a fait dans le notebook précédent à savoir créer une classe fille implémentant quelques méthodes pré-définies pour avoir un serveur en quelques lignes. Et donc pour définir notre serveur websocket il nous suffit ici de définir une classe héritant de `tornado.websocket.WebSocketHandler` dans laquelle nous allons être amené à définir les méthodes suivantes : \n",
    "\n",
    "* open : qui permet d'effectuer une action à la connection d'un nouveau client. \n",
    "* on_close : qui permet d'effectuer une action à la déconnexion d'un client\n",
    "* on_message : qui permet de traiter un message reçu \n",
    "\n",
    "Par exemple l'écriture d'un serveur echo se fait de la manière suivante "
   ]
  },
  {
   "cell_type": "code",
   "execution_count": 21,
   "metadata": {},
   "outputs": [],
   "source": [
    "from tornado.websocket import WebSocketHandler"
   ]
  },
  {
   "cell_type": "code",
   "execution_count": 22,
   "metadata": {},
   "outputs": [],
   "source": [
    "class EchoWebSocketHandler(WebSocketHandler):\n",
    "    def open(self):\n",
    "        print(\"Open connection\")\n",
    "        self.write_message(\"Welcome\")\n",
    "        \n",
    "    def on_message(self, message):\n",
    "        self.write_message(u\"You said: \" + message) \n",
    "\n",
    "    def on_close(self):\n",
    "        print(\"close connection\")"
   ]
  },
  {
   "cell_type": "markdown",
   "metadata": {},
   "source": [
    "Il nous suffit alors d'instancier une `Application` tornado en spécifiant que notre handler websocket est accessible à l'adresse `/ws`. "
   ]
  },
  {
   "cell_type": "code",
   "execution_count": 23,
   "metadata": {},
   "outputs": [],
   "source": [
    "from tornado.web import Application\n",
    "\n",
    "app = Application([(r'/ws', EchoWebSocketHandler)])\n",
    "server = app.listen(3080)"
   ]
  },
  {
   "cell_type": "markdown",
   "metadata": {},
   "source": [
    "Créons maintenant un client websocket comme nous l'avons vu précédemment "
   ]
  },
  {
   "cell_type": "code",
   "execution_count": 24,
   "metadata": {},
   "outputs": [
    {
     "name": "stdout",
     "output_type": "stream",
     "text": [
      "Open connection\n",
      "[In on message] Welcome\n"
     ]
    }
   ],
   "source": [
    "def on_message( msg ):\n",
    "    print(f\"[In on message] {msg}\")\n",
    "\n",
    "ws = await websocket_connect(\"ws://localhost:3080/ws\", on_message_callback=on_message)\n"
   ]
  },
  {
   "cell_type": "markdown",
   "metadata": {},
   "source": [
    "On constate donc que l'on recoit bien directement le message d'acceuil du server. Nous pouvons alors envoyer divers messages au serveur. "
   ]
  },
  {
   "cell_type": "code",
   "execution_count": 25,
   "metadata": {},
   "outputs": [
    {
     "name": "stdout",
     "output_type": "stream",
     "text": [
      "[In on message] You said: coucou\n",
      "[In on message] You said: comment ça va\n"
     ]
    }
   ],
   "source": [
    "await ws.write_message(\"coucou\")\n",
    "await ws.write_message(\"comment ça va\")"
   ]
  },
  {
   "cell_type": "markdown",
   "metadata": {},
   "source": [
    "Et pour finir nous pouvons fermer la connexion du côté client. "
   ]
  },
  {
   "cell_type": "code",
   "execution_count": 26,
   "metadata": {},
   "outputs": [],
   "source": [
    "ws.close()"
   ]
  },
  {
   "cell_type": "markdown",
   "metadata": {},
   "source": [
    "Ainsi en quelques lignes nous avons pu mettre en place très simplement un client et un server websocket, il ne vous reste plus qu'à laisser libre cours à votre imagination !! "
   ]
  },
  {
   "cell_type": "code",
   "execution_count": 27,
   "metadata": {},
   "outputs": [],
   "source": [
    "server.stop()"
   ]
  },
  {
   "cell_type": "markdown",
   "metadata": {},
   "source": [
    "## Une messagerie instantannée"
   ]
  },
  {
   "cell_type": "markdown",
   "metadata": {},
   "source": [
    "Afin de donner une illustration un peu plus concrète de l'intérêt des websockets, je vous propose de faire une mini-application de messagerie instantanée. "
   ]
  },
  {
   "cell_type": "markdown",
   "metadata": {},
   "source": [
    "Pour commencer réalisons le serveur de nortre messagerie. Le rôle de ce serveur est tout simple, il n'est là que pour recevoir un message d'un client et le transmettre à tous les clients connectés. Pour cela nous allons avoir besoin de conserver la liste des tous les clients connectés à notre serveur. On va réaliser d'une manière peu élégante et peu originale en créant une variable globale `cnx` qui va contenir toutes les instances de notre *handler*"
   ]
  },
  {
   "cell_type": "code",
   "execution_count": 28,
   "metadata": {},
   "outputs": [],
   "source": [
    "cnx = []\n",
    "\n",
    "class MessagerieWebSocketHandler(WebSocketHandler):\n",
    "    def open(self):\n",
    "        if self not in cnx:\n",
    "            cnx.append(self)\n",
    "            \n",
    "        for client in cnx:\n",
    "            client.write_message(\"New user logged in\")\n",
    "        \n",
    "    def on_message(self, message):\n",
    "        for client in cnx:\n",
    "            client.write_message( message )\n",
    "            \n",
    "    def on_close(self):\n",
    "        print(\"close connection\")\n",
    "        cnx.remove(self)\n",
    "        \n",
    "app = Application([(r'/ws', MessagerieWebSocketHandler)])\n",
    "server = app.listen(3090)"
   ]
  },
  {
   "cell_type": "markdown",
   "metadata": {},
   "source": [
    "Maintenant que notre serveur est prêt et à l'écoute nous allons réaliser le client. Tout comme le serveur le client n'a pas besoin d'être bien compliqué il est juste là pour envoyer et recevoir les message. Une implémentation possible est la suivante : "
   ]
  },
  {
   "cell_type": "code",
   "execution_count": 29,
   "metadata": {},
   "outputs": [],
   "source": [
    "class Client:\n",
    "    def __init__(self, ws_url, name):\n",
    "        self._name = name \n",
    "        self._ws_url = ws_url \n",
    "        \n",
    "    async def connect(self):\n",
    "        self._ws = await websocket_connect(self._ws_url, on_message_callback=self.on_message)\n",
    "        \n",
    "    def on_message(self, msg):\n",
    "        print(f\"[{self._name} terminal] {msg}\")\n",
    "        \n",
    "    async def write_message(self, msg):\n",
    "        await self._ws.write_message(f\"[{self._name}]: {msg}\")\n",
    "        \n",
    "    def quit(self):\n",
    "        self._ws.close()"
   ]
  },
  {
   "cell_type": "code",
   "execution_count": 30,
   "metadata": {},
   "outputs": [
    {
     "name": "stdout",
     "output_type": "stream",
     "text": [
      "close connection\n",
      "[In on message] None\n",
      "[Toto terminal] New user logged in\n",
      "[Toto terminal] New user logged in\n",
      "[Tutu terminal] New user logged in\n",
      "[Toto terminal] New user logged in\n",
      "[Tutu terminal] New user logged in\n",
      "[Tata terminal] New user logged in\n"
     ]
    }
   ],
   "source": [
    "clientA = Client(\"ws://localhost:3090/ws\", \"Toto\")\n",
    "await clientA.connect()\n",
    "clientB = Client(\"ws://localhost:3090/ws\", \"Tutu\")\n",
    "await clientB.connect()\n",
    "clientC = Client(\"ws://localhost:3090/ws\", \"Tata\")\n",
    "await clientC.connect()"
   ]
  },
  {
   "cell_type": "code",
   "execution_count": 31,
   "metadata": {},
   "outputs": [
    {
     "name": "stdout",
     "output_type": "stream",
     "text": [
      "[Toto terminal] [Toto]: coucou\n",
      "[Tutu terminal] [Toto]: coucou\n",
      "[Tata terminal] [Toto]: coucou\n"
     ]
    }
   ],
   "source": [
    "await clientA.write_message(\"coucou\")"
   ]
  },
  {
   "cell_type": "code",
   "execution_count": 32,
   "metadata": {},
   "outputs": [],
   "source": [
    "clientA.quit()"
   ]
  },
  {
   "cell_type": "code",
   "execution_count": 33,
   "metadata": {},
   "outputs": [
    {
     "name": "stdout",
     "output_type": "stream",
     "text": [
      "close connection\n",
      "[Toto terminal] None\n",
      "[Tutu terminal] [Tutu]: Tu as vu Toto est parti\n",
      "[Tata terminal] [Tutu]: Tu as vu Toto est parti\n"
     ]
    }
   ],
   "source": [
    "await clientB.write_message(\"Tu as vu Toto est parti\")"
   ]
  },
  {
   "cell_type": "code",
   "execution_count": 34,
   "metadata": {},
   "outputs": [],
   "source": [
    "server.stop()"
   ]
  },
  {
   "cell_type": "markdown",
   "metadata": {},
   "source": [
    "Ainsi en quelques lignes nous avons pu d'évelopper un système de messagerie instantanée acceptant autant de client que nécessaire. "
   ]
  },
  {
   "cell_type": "markdown",
   "metadata": {},
   "source": [
    "Pour ceux qui douteraient encore de l'apport significatif des websocket pour ce genre d'application je vous invite a essayer de refaire l'application de messagerie mais sans websocket, uniquement avec du HTTP. Et une fois que ça marche on en rediscute ;) "
   ]
  },
  {
   "cell_type": "markdown",
   "metadata": {},
   "source": [
    "## Pour vous occuper"
   ]
  },
  {
   "cell_type": "markdown",
   "metadata": {},
   "source": [
    "Pour finir sur cette introduction à Websocket je vous propose un petit défi, pour celles et ceux qui ne sont pas débordé par les \"impératifs\" de la campagne BDE. Avec websocket on a fait une application de messagerie en 15 lignes grosso modo. Je vous propose donc de mettre en place un jeu en ligne, le jeu du morpion ou tic tac toe. Le défi est que vous me fassiez un jeu multi-joueur pouvant géré simultanément différentes parties. Vous êtes libre sur l'implémentation, les plus inventifs sont envouragés à faire une interface via html. "
   ]
  },
  {
   "cell_type": "markdown",
   "metadata": {},
   "source": [
    "Qui dit défi dit récompense. Si vous faites un jeu que j'estimerai être digne de ce nom, je vous l'installerai sur un serveur pour que vous puissiez y jouer (en dehors des heures de cours évidemment) !"
   ]
  },
  {
   "cell_type": "code",
   "execution_count": null,
   "metadata": {},
   "outputs": [],
   "source": []
  }
 ],
 "metadata": {
  "kernelspec": {
   "display_name": "Python 3",
   "language": "python",
   "name": "python3"
  },
  "language_info": {
   "codemirror_mode": {
    "name": "ipython",
    "version": 3
   },
   "file_extension": ".py",
   "mimetype": "text/x-python",
   "name": "python",
   "nbconvert_exporter": "python",
   "pygments_lexer": "ipython3",
   "version": "3.7.4"
  }
 },
 "nbformat": 4,
 "nbformat_minor": 2
}
